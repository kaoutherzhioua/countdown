{
  "nbformat": 4,
  "nbformat_minor": 0,
  "metadata": {
    "colab": {
      "name": "Untitled16.ipynb",
      "provenance": []
    },
    "kernelspec": {
      "name": "python3",
      "display_name": "Python 3"
    },
    "language_info": {
      "name": "python"
    }
  },
  "cells": [
    {
      "cell_type": "code",
      "metadata": {
        "id": "lmI_U0M1Fw1_"
      },
      "source": [
        "import time\n",
        "\n",
        "def countdown(num_of_secs):\n",
        "    while num_of_secs:\n",
        "        m, s = divmod(num_of_secs, 60)\n",
        "        min_sec_format = '{:02d}:{:02d}'.format(m, s)\n",
        "        print(min_sec_format, end='/r')\n",
        "        time.sleep(1)\n",
        "        num_of_secs -= 1\n",
        "        \n",
        "    print('Fire in the hole!')\n",
        "\n",
        "inp = input('Input number of seconds to countdown: ')\n",
        "countdown(inp)"
      ],
      "execution_count": null,
      "outputs": []
    }
  ]
}